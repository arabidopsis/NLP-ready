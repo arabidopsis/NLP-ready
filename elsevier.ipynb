{
 "cells": [
  {
   "cell_type": "markdown",
   "metadata": {},
   "source": [
    "# Elsevier API"
   ]
  },
  {
   "cell_type": "code",
   "execution_count": null,
   "metadata": {},
   "outputs": [],
   "source": [
    "from lxml import etree\n",
    "import gzip\n",
    "import os\n",
    "import requests"
   ]
  },
  {
   "cell_type": "markdown",
   "metadata": {},
   "source": [
    "### Links\n",
    "\n",
    "* see also https://codebeautify.org/xmlviewer\n",
    "* `@xmlns:prism:http://prismstandard.org/namespaces/basic/2.0/` Publishing Requirements for Industry Standard Metadata.\n",
    "* http://purl.org/ PURLs are persistent URLs, they provide permanent addresses for resources on the web.\n",
    "* http://dublincore.org/documents/dcmi-terms/\n",
    "* https://www.elsevier.com/authors/author-schemas/elsevier-xml-dtds-and-transport-schemas\n",
    "* http://xmlgrid.net/ display xml (good to grab XPath)\n",
    "* Elsevier API docs https://dev.elsevier.com/api_docs.html"
   ]
  },
  {
   "cell_type": "code",
   "execution_count": null,
   "metadata": {},
   "outputs": [],
   "source": [
    "from pygments import highlight\n",
    "from IPython.display import HTML\n",
    "import json\n",
    "\n",
    "from pygments.lexers import XmlLexer,  JsonLexer\n",
    "from pygments.formatters import HtmlFormatter\n",
    "\n",
    "lexer = XmlLexer()\n",
    "jsonlexer = JsonLexer()\n",
    "htmlfmt = HtmlFormatter(style='colorful', cssclass='highlight')\n",
    "\n",
    "\n",
    "def tostring(e):\n",
    "    return etree.tostring(e, encoding='unicode', pretty_print=True)\n",
    "\n",
    "\n",
    "def showxml(e):\n",
    "    if not isinstance(e, list):\n",
    "        e = [e]\n",
    "    return HTML('<hr/>'.join(highlight(tostring(n), lexer, htmlfmt) for n in e))\n",
    "\n",
    "def showjson(e):\n",
    "    if not isinstance(e, list):\n",
    "        e = [e]\n",
    "    return HTML('<hr/>'.join(highlight(json.dumps(n, separators=(',', ': '), indent=2), \n",
    "                                       jsonlexer, htmlfmt) for n in e))\n",
    "\n",
    "HTML('<style type=\"text/css\">' +  htmlfmt.get_style_defs() + '</style>')"
   ]
  },
  {
   "cell_type": "markdown",
   "metadata": {},
   "source": [
    "# Elsevier API\n",
    "\n",
    "see https://dev.elsevier.com/index.html\n",
    "and https://github.com/ElsevierDev/elsapy\n",
    "\n",
    "json response doesn't seem to have all the data."
   ]
  },
  {
   "cell_type": "code",
   "execution_count": null,
   "metadata": {},
   "outputs": [],
   "source": [
    "import requests\n",
    "from io import BytesIO\n",
    "from bs4 import BeautifulSoup\n",
    "\n",
    "PMID_ELSEVIER = 'http://api.elsevier.com/content/article/pubmed_id/{}'\n",
    "EKEY = '305ac4275ea475891668f6a71234efbc'\n",
    "Headers = {'X-ELS-APIKey': EKEY}\n",
    "\n",
    "\n",
    "def elsevier(pmid, url=PMID_ELSEVIER):\n",
    "    resp = requests.get(url.format(pmid),\n",
    "                        headers=Headers,\n",
    "                        params={'view': 'full'}  # Do we need this?\n",
    "                        )\n",
    "\n",
    "    # for row in Events().parse(BytesIO(resp.content),'elsevier'):\n",
    "    #    print(row)#,end=' ')\n",
    "\n",
    "    soup = BeautifulSoup(BytesIO(resp.content), \"xml\")\n",
    "    if soup.find('service-error'):\n",
    "        print('no such document:', pmid, file=sys.stderr)\n",
    "        return None\n",
    "    else:\n",
    "        return soup.prettify()\n",
    "\n",
    "\n",
    "def elsevier_xml(pmid, url=PMID_ELSEVIER):\n",
    "    resp = requests.get(url.format(pmid),\n",
    "                        headers=Headers,\n",
    "                        params={'view': 'full', }\n",
    "                        )\n",
    "\n",
    "    parser = etree.XMLParser(ns_clean=True)\n",
    "    tree = etree.parse(BytesIO(resp.content), parser)\n",
    "\n",
    "    root = tree.getroot()\n",
    "    return root\n",
    "\n",
    "\n",
    "def get_object(url):\n",
    "    resp = requests.get(url,\n",
    "                        headers=Headers,\n",
    "                        params={'httpAccept': '*/*'}\n",
    "                        )\n",
    "    return resp.content"
   ]
  },
  {
   "cell_type": "code",
   "execution_count": null,
   "metadata": {},
   "outputs": [],
   "source": [
    "def getxml(pmid):\n",
    "    parser = etree.XMLParser(ns_clean=True)\n",
    "    with open('elsevier/xml/{}.xml'.format(pmid), 'rb') as fp:\n",
    "        tree = etree.parse(fp, parser)\n",
    "\n",
    "    root = tree.getroot()\n",
    "    return root\n",
    "\n",
    "\n",
    "def getxmlepmc(pmid):\n",
    "    parser = etree.XMLParser(ns_clean=True)\n",
    "    with open('elsevier/xml_epmc/{}.xml'.format(pmid), 'rb') as fp:\n",
    "        tree = etree.parse(fp, parser)\n",
    "\n",
    "    root = tree.getroot()\n",
    "    return root"
   ]
  },
  {
   "cell_type": "code",
   "execution_count": null,
   "metadata": {},
   "outputs": [],
   "source": [
    "epmc = getxmlepmc('PMC1087855')"
   ]
  },
  {
   "cell_type": "code",
   "execution_count": null,
   "metadata": {},
   "outputs": [],
   "source": [
    "resp = requests.get(PMID_ELSEVIER.format('17586462'), \n",
    "                    headers={ 'X-ELS-APIKey': EKEY, 'Accept': 'application/json'},\n",
    "                   params={'view': 'documents'})"
   ]
  },
  {
   "cell_type": "markdown",
   "metadata": {},
   "source": [
    "``application/pdf`` seems only to return first page!"
   ]
  },
  {
   "cell_type": "code",
   "execution_count": null,
   "metadata": {},
   "outputs": [],
   "source": [
    "resp = requests.get(PMID_ELSEVIER.format('17586462'), \n",
    "                    headers={ 'X-ELS-APIKey': EKEY, 'Accept': 'application/pdf'},\n",
    "                   params={'view': 'full'})"
   ]
  },
  {
   "cell_type": "code",
   "execution_count": null,
   "metadata": {},
   "outputs": [],
   "source": [
    "resp.content"
   ]
  },
  {
   "cell_type": "code",
   "execution_count": null,
   "metadata": {},
   "outputs": [],
   "source": [
    "with open('xxxx.pdf', 'wb') as fp:\n",
    "    fp.write(resp.content)"
   ]
  },
  {
   "cell_type": "code",
   "execution_count": null,
   "metadata": {},
   "outputs": [],
   "source": [
    "r['full-text-retrieval-response']['originalText']['xocs:doc'].keys()"
   ]
  },
  {
   "cell_type": "code",
   "execution_count": null,
   "metadata": {},
   "outputs": [],
   "source": [
    "resp = requests.get('https://api.elsevier.com/content/abstract/citation-count', \n",
    "                    headers={ 'X-ELS-APIKey': EKEY, 'Accept': 'application/json'},\n",
    "                    params= {'pubmed_id':'17586462'})"
   ]
  },
  {
   "cell_type": "code",
   "execution_count": null,
   "metadata": {},
   "outputs": [],
   "source": [
    "resp.json()"
   ]
  },
  {
   "cell_type": "code",
   "execution_count": null,
   "metadata": {},
   "outputs": [],
   "source": [
    "with open(os.path.expanduser('~/17586462.xml')) as fp:\n",
    "    parser = etree.XMLParser(ns_clean=True)\n",
    "    tree = etree.parse(fp, parser)\n",
    "\n",
    "root = tree.getroot()\n"
   ]
  },
  {
   "cell_type": "code",
   "execution_count": null,
   "metadata": {},
   "outputs": [],
   "source": [
    "showxml(root)"
   ]
  },
  {
   "cell_type": "code",
   "execution_count": null,
   "metadata": {},
   "outputs": [],
   "source": [
    "NS = root.nsmap.copy()\n",
    "NS['e'] = NS[None]\n",
    "del NS[None]\n",
    "NS"
   ]
  },
  {
   "cell_type": "code",
   "execution_count": null,
   "metadata": {},
   "outputs": [],
   "source": [
    "[(r.tag,r.text) for r in root.xpath('//prism:*', namespaces=NS)] "
   ]
  },
  {
   "cell_type": "code",
   "execution_count": null,
   "metadata": {},
   "outputs": [],
   "source": [
    "from IPython.display import Image\n",
    "\n",
    "Image(get_object('http://api.elsevier.com/content/object/eid/1-s2.0-S0006291X07012508-fx2.jpg'))"
   ]
  },
  {
   "cell_type": "code",
   "execution_count": null,
   "metadata": {},
   "outputs": [],
   "source": [
    "[r.text for r in root.xpath('//e:objects/e:object', namespaces=NS)]"
   ]
  },
  {
   "cell_type": "code",
   "execution_count": null,
   "metadata": {},
   "outputs": [],
   "source": [
    "showxml([r for r in root.xpath('//ce:bib-reference', namespaces=NS)])"
   ]
  },
  {
   "cell_type": "code",
   "execution_count": null,
   "metadata": {},
   "outputs": [],
   "source": [
    "[(r.xpath('./ce:surname/text()', namespaces=NS),\n",
    " r.xpath('./ce:given-name/text()', namespaces=NS))\n",
    " for r in root.xpath('//ce:bib-reference/sb:reference/sb:contribution/sb:authors/sb:author', namespaces=NS)]"
   ]
  },
  {
   "cell_type": "code",
   "execution_count": null,
   "metadata": {},
   "outputs": [],
   "source": [
    "root.xpath('//ce:bib-reference/ce:reference', namespaces=NS)"
   ]
  },
  {
   "cell_type": "code",
   "execution_count": null,
   "metadata": {},
   "outputs": [],
   "source": [
    "[r for r in root.xpath('/e:full-text-retrieval-response/e:pubmed-id[1]/text()', namespaces=NS)]"
   ]
  },
  {
   "cell_type": "code",
   "execution_count": null,
   "metadata": {},
   "outputs": [],
   "source": [
    "e= root.xpath('/e:full-text-retrieval-response', namespaces=NS)[0]\n",
    "e.getchildren()"
   ]
  },
  {
   "cell_type": "code",
   "execution_count": null,
   "metadata": {},
   "outputs": [],
   "source": [
    "[r for r in root.xpath('/e:full-text-retrieval-response/e:originalText/xocs:doc//ja:article', namespaces=NS)]"
   ]
  },
  {
   "cell_type": "code",
   "execution_count": null,
   "metadata": {},
   "outputs": [],
   "source": [
    "''.join(r for r in root.xpath('//ja:article/ja:head//ce:abstract-sec//text()', namespaces=NS)).strip()"
   ]
  },
  {
   "cell_type": "code",
   "execution_count": null,
   "metadata": {},
   "outputs": [],
   "source": [
    "[''.join(r.xpath('//text()')) for r in root.xpath('//ja:article/ja:body//ce:sections//ce:para', namespaces=NS)]"
   ]
  },
  {
   "cell_type": "code",
   "execution_count": null,
   "metadata": {},
   "outputs": [],
   "source": [
    "from itertools import chain\n",
    "list(chain(r.xpath('./ce:para|./ce:section', namespaces=NS) \n",
    "           for r in root.xpath('//ja:article/ja:body//ce:sections', namespaces=NS)))"
   ]
  },
  {
   "cell_type": "code",
   "execution_count": null,
   "metadata": {},
   "outputs": [],
   "source": [
    "list(chain(*[r.xpath('./ce:para|./ce:section', namespaces=NS) \n",
    "           for r in root.xpath('//ja:article/ja:body//ce:appendices', namespaces=NS)]))"
   ]
  },
  {
   "cell_type": "code",
   "execution_count": null,
   "metadata": {},
   "outputs": [],
   "source": [
    "CE = NS['ce']\n",
    "TAG = '{%s}%%s' % CE\n",
    "XREFS = {TAG % 'cross-ref', TAG % 'cross-refs'}\n",
    "ITALIC = {TAG % 'italic'}\n",
    "def para2txt(e):\n",
    "    for t in e.xpath('.//text()'):\n",
    "        p = t.getparent()\n",
    "        if p.tag in XREFS:\n",
    "            if p.tail == t:\n",
    "                yield p.tail\n",
    "            else:\n",
    "                yield '[%s]' % p.attrib['refid']\n",
    "        elif p.tag in ITALIC and p.tail != t:\n",
    "            yield '*%s*' % t\n",
    "        else:\n",
    "            yield str(t)\n"
   ]
  },
  {
   "cell_type": "code",
   "execution_count": null,
   "metadata": {},
   "outputs": [],
   "source": [
    "paras = list(chain(*[r.xpath('./ce:para', namespaces=NS) \n",
    "           for r in root.xpath('//ja:article/ja:body//ce:sections', namespaces=NS)]))\n",
    "paras"
   ]
  },
  {
   "cell_type": "code",
   "execution_count": null,
   "metadata": {},
   "outputs": [],
   "source": [
    "\n",
    "showxml(paras)"
   ]
  },
  {
   "cell_type": "code",
   "execution_count": null,
   "metadata": {},
   "outputs": [],
   "source": [
    "''.join(para2txt(paras[1]))"
   ]
  },
  {
   "cell_type": "code",
   "execution_count": null,
   "metadata": {},
   "outputs": [],
   "source": [
    "showxml(paras[1])"
   ]
  },
  {
   "cell_type": "code",
   "execution_count": null,
   "metadata": {},
   "outputs": [],
   "source": [
    "sections = [(r.attrib['id'], r.xpath('.//ce:para', namespaces=NS))\n",
    "               for r in root.xpath('//ja:article/ja:body//ce:section', namespaces=NS)]\n",
    "sections"
   ]
  },
  {
   "cell_type": "code",
   "execution_count": null,
   "metadata": {},
   "outputs": [],
   "source": [
    "# CE = NS['ce']\n",
    "CE = 'http://www.elsevier.com/xml/common/dtd'\n",
    "TAG = '{%s}%%s' % CE\n",
    "XREFS = {TAG % 'cross-ref', TAG % 'cross-refs'}\n",
    "ITALIC = {TAG % 'italic'}\n",
    "def para2txt(e):\n",
    "    for t in e.xpath('.//text()'):\n",
    "        p = t.getparent()\n",
    "        if p.tag in XREFS:\n",
    "            if p.tail == t:\n",
    "                yield p.tail\n",
    "            else:\n",
    "                yield '[%s]' % p.attrib['refid']\n",
    "        elif p.tag in ITALIC and p.tail != t:\n",
    "            yield '<i>%s</i>' % t\n",
    "        else:\n",
    "            yield str(t)\n",
    "\n",
    "E = '/e:full-text-retrieval-response'\n",
    "ART = '*[self::ja:converted-article or self::ja:article]'\n",
    "class Elsevier(object):\n",
    "    def __init__(self, root):\n",
    "        self.root = root\n",
    "        ns = root.nsmap.copy()\n",
    "        ns['e'] = ns.pop(None)\n",
    "\n",
    "        self.ns = ns\n",
    "        \n",
    "    def xpath(self, path, e=None):\n",
    "        if e is None:\n",
    "            return self.root.xpath(path, namespaces=self.ns)\n",
    "        else:\n",
    "            return e.xpath(path, namespaces=self.ns)\n",
    "\n",
    "    @property\n",
    "    def scopus_id(self):\n",
    "        return self.xpath(E + '/e:scopus-id[1]/text()')[0]\n",
    "    \n",
    "    @property\n",
    "    def doi(self):\n",
    "        return self.xpath(E + '/e:coredata/prism:doi[1]/text()')[0]\n",
    "\n",
    "    @property\n",
    "    def doi2(self):\n",
    "        return self.xpath(E + '/e:originalText/xocs:doc/xocs:meta/xocs:doi//text()')[0]\n",
    "    \n",
    "    @property\n",
    "    def pubmid(self):\n",
    "        return self.xpath(E + '/e:pubmed-id[1]/text()')[0]\n",
    "    \n",
    "    @property\n",
    "    def title(self):\n",
    "    \n",
    "        t =  self.xpath(E + '/e:originalText/xocs:doc/xocs:serial-item/' + ART + '/ja:head/ce:title')\n",
    "        t = t[0]\n",
    "        return ''.join(para2txt(t)).strip()\n",
    "    \n",
    "    @property\n",
    "    def abstract(self):\n",
    "        t =  self.xpath(E + '/e:originalText/xocs:doc/xocs:serial-item/' + ART + '/ja:head/ce:abstract/ce:abstract-sec')\n",
    "        t = t[0]\n",
    "        return ''.join(para2txt(t)).strip()\n",
    "    \n",
    "      \n",
    "    def sections(self, e):\n",
    "        for c in e.getchildren():\n",
    "            if c.tag == '{http://www.elsevier.com/xml/common/dtd}para':\n",
    "                yield ''.join(para2txt(c)).strip()\n",
    "            elif c.tag == '{http://www.elsevier.com/xml/common/dtd}section':\n",
    "                title = c.xpath('./ce:section-title//text()', namespaces=self.ns)\n",
    "                if title:\n",
    "                    title = ''.join(title)\n",
    "                else:\n",
    "                    title = None\n",
    "                yield (title, c.get('id'), list(self.sections(c)))\n",
    "            \n",
    "    def body(self):\n",
    "        secs = self.xpath(E + '/e:originalText/xocs:doc/xocs:serial-item/' + ART + '/ja:body/ce:sections')\n",
    "        for s in secs:\n",
    "            yield from self.sections(s)\n",
    "            \n",
    "    def bib_refs(self):\n",
    "        refs = self.xpath(E + '/e:originalText/xocs:doc/xocs:serial-item/' + ART + '/ja:tail/ce:bibliography/ce:bibliography-sec/ce:bib-reference')\n",
    "        for ref in refs:\n",
    "            rid = ref.get('id')\n",
    "            authors = ref.xpath('./sb:reference/sb:contribution/sb:authors/sb:author', namespaces=self.ns)\n",
    "            authors = [' '.join(s.strip() for s in a.xpath('.//text()', namespaces=self.ns)).strip() for a in authors]\n",
    "            title = ''.join(ref.xpath('./sb:reference/sb:contribution/sb:title//text()', namespaces=self.ns)).strip()\n",
    "            #jtitle = ref.xpath('./sb:reference/sb:host/sb:issue/sb:series/sb:title//text()')[0]\n",
    "            yield (rid, title, authors)\n",
    "            \n",
    "\n",
    "    def _results(self, text):\n",
    "        secs = self.xpath(E + '/e:originalText/xocs:doc/xocs:serial-item/' + ART + '/ja:body/ce:sections')\n",
    "        for sec in secs:\n",
    "            for s in  sec.xpath('./ce:section', namespaces=self.ns):\n",
    "                for t in s.xpath('.//ce:section-title/text()', namespaces=self.ns):\n",
    "                    if t.lower().find(text) >= 0:\n",
    "                        return s\n",
    "        return None\n",
    "    \n",
    "    def results(self):\n",
    "        return self._results('results')\n",
    "    \n",
    "    def methods(self):\n",
    "        return self._results('methods')"
   ]
  },
  {
   "cell_type": "code",
   "execution_count": null,
   "metadata": {},
   "outputs": [],
   "source": [
    "el = Elsevier(root)\n",
    "list(el.body())"
   ]
  },
  {
   "cell_type": "code",
   "execution_count": null,
   "metadata": {},
   "outputs": [],
   "source": [
    "def tohtml(el):\n",
    "    def sec(s, level=2):\n",
    "        for e in s:\n",
    "            if isinstance(e, tuple):\n",
    "                yield '<h%d>%s</h%d>' % (level, e[0] or e[1], level)\n",
    " \n",
    "                yield from sec(e[2], level=level+1)\n",
    "            else:\n",
    "                yield '<p>%s</p>' % e\n",
    "            \n",
    "    return ''.join(e for e in sec(el.body()))\n"
   ]
  },
  {
   "cell_type": "code",
   "execution_count": null,
   "metadata": {},
   "outputs": [],
   "source": [
    "HTML(('<h1>Abstract</h1><p>%s</p>' % el.abstract) + tohtml(el))"
   ]
  },
  {
   "cell_type": "code",
   "execution_count": null,
   "metadata": {},
   "outputs": [],
   "source": [
    "\n",
    "DOI_ELSEVIER='http://api.elsevier.com/content/article/doi/{}'\n",
    "x = elsevier_xml('17586462')\n"
   ]
  },
  {
   "cell_type": "markdown",
   "metadata": {},
   "source": [
    "## Notes\n",
    "\n",
    "* extract chemicals e.g. H_2_O_2\n",
    "* extract IDs\n",
    "* extract Peptides, Nucleotides"
   ]
  },
  {
   "cell_type": "code",
   "execution_count": null,
   "metadata": {},
   "outputs": [],
   "source": [
    "import re\n",
    "\n",
    "from collections import Counter\n",
    "\n",
    "NSRE = re.compile('^{([^}]+)}(.*)$')\n",
    "\n",
    "PRIME = u'[\\'\\u2019\\u2032]'\n",
    "Q = [\n",
    "    ('gfp', '(?:GFP|YFP)'),\n",
    "    ('primer', '5' + PRIME + r'[\\s-]+[CTGA ]+[\\s-]+3' + PRIME),\n",
    "    ('agi', r'[Aa][Tt][1-5MCmc][Gg][0-9]{5}(?:\\.[0-9]{1,2})?'),\n",
    "    ('vector', '[Vv]ector'),\n",
    "    ('construct', '[Cc]onstruct'),\n",
    "    ('dna', '[CTGA][CTGA ]{3,}[CTGA]')\n",
    "]\n",
    "MATCH = re.compile('(' + '|'.join('(?P<%s>%s)' % (name, regex) for name, regex in Q) + ')')\n",
    "\n",
    "\n",
    "# Q = [(name,re.compile('^'+regex+'$')) for name,regex in Q]\n",
    "\n",
    "def cvt(txt):\n",
    "    idx = 0\n",
    "    for m in MATCH.finditer(txt):\n",
    "        s, e = m.start(0), m.end(0)\n",
    "        if s > idx:\n",
    "            yield None, txt[idx:s]\n",
    "        match = m.group(0)\n",
    "        for name, v in m.groupdict().items():\n",
    "            if v is not None:\n",
    "                yield name, match\n",
    "                break\n",
    "        else:\n",
    "            yield 'unknown', match\n",
    "\n",
    "        idx = e\n",
    "    if idx < len(txt):\n",
    "        yield None, txt[idx:]\n",
    "\n",
    "\n",
    "class Events(object):\n",
    "    TAGS = {}\n",
    "\n",
    "    #def findmatches(self, text):\n",
    "    #    return [(None, text)]\n",
    "\n",
    "    def findmatches(self, text):\n",
    "        for row in cvt(text):\n",
    "            yield row\n",
    "\n",
    "    def parse(self, fp):\n",
    "        counts = Counter()\n",
    "\n",
    "        for e, elem in etree.iterparse(fp, events=('start', 'end')):\n",
    "            if e == 'start':\n",
    "                tag = elem.tag\n",
    "                m = NSRE.match(tag)\n",
    "                if m:\n",
    "                    ns, tag = m.group(1, 2)\n",
    "                stag = 'start_' + tag.replace('-', '_')\n",
    "\n",
    "                if hasattr(self, stag):\n",
    "                    yield getattr(self, stag)(elem)\n",
    "\n",
    "                else:\n",
    "                    etag = self.TAGS.get(tag, 'span')\n",
    "                    yield '<%s class=\"%s\">' % (etag, tag)\n",
    "\n",
    "                if elem.text:\n",
    "                    for name, match in self.findmatches(elem.text):\n",
    "                        if name:\n",
    "                            counts[name] += 1\n",
    "                            yield '<b class=\"%s\">%s</b>' % (name, match)\n",
    "                        else:\n",
    "                            yield match\n",
    "\n",
    "            elif e == 'end':\n",
    "                tag = elem.tag\n",
    "                m = NSRE.match(tag)\n",
    "                if m:\n",
    "                    tag = m.group(2)\n",
    "                stag = 'end_' + tag.replace('-', '_')\n",
    "                if hasattr(self, stag):\n",
    "                    yield getattr(self, stag)(elem)\n",
    "                else:\n",
    "                    etag = self.TAGS.get(tag, 'span')\n",
    "                    yield '</%s> ' % etag  # [sic!] add space\n",
    "                if elem.tail:\n",
    "                    for name, match in cvt(elem.tail):\n",
    "                        if name:\n",
    "                            counts[name] += 1\n",
    "                            yield '<b class=\"%s\">%s</b>' % (name, match)\n",
    "                        else:\n",
    "                            yield match\n",
    "            else:\n",
    "                RuntimeError('what event %s?' % e)\n",
    "\n",
    "        yield '<ul class=\"counts\">'\n",
    "        for name in counts:\n",
    "            yield '<li>%s:%d</li>' % (name, counts[name])\n",
    "        yield '</ul>'\n"
   ]
  },
  {
   "cell_type": "code",
   "execution_count": null,
   "metadata": {},
   "outputs": [],
   "source": [
    "secs = root.xpath('/e:full-text-retrieval-response/e:originalText/xocs:doc/xocs:serial-item/ja:article/ja:body/ce:sections', namespaces=NS)"
   ]
  },
  {
   "cell_type": "code",
   "execution_count": null,
   "metadata": {},
   "outputs": [],
   "source": [
    "secs"
   ]
  },
  {
   "cell_type": "code",
   "execution_count": null,
   "metadata": {},
   "outputs": [],
   "source": [
    "def parse(elem, level=0):\n",
    "\n",
    "    yield 's', level, elem.tag,elem.text\n",
    "    for e in elem.iterchildren():\n",
    "        yield from parse(e, level=level+1)\n",
    "    yield 'e', level, elem.tag, elem.tail\n"
   ]
  },
  {
   "cell_type": "code",
   "execution_count": null,
   "metadata": {},
   "outputs": [],
   "source": [
    "from collections import Counter\n",
    "tags = set()\n",
    "wc = Counter()\n",
    "for sec in secs:\n",
    "    for s, l, t, txt in parse(sec):\n",
    "        t = t[t.index('}')+1:]\n",
    "        if txt:\n",
    "            tt = txt.split()\n",
    "            for c in tt:\n",
    "                c = c.lower()\n",
    "                wc[c] += 1\n",
    "        \n",
    "        \n",
    "        print(' '*l, s,t,repr(txt))\n",
    "        tags.add(t)"
   ]
  },
  {
   "cell_type": "code",
   "execution_count": null,
   "metadata": {},
   "outputs": [],
   "source": [
    "wc.most_common()"
   ]
  },
  {
   "cell_type": "code",
   "execution_count": null,
   "metadata": {},
   "outputs": [],
   "source": [
    "tags = set()\n",
    "refs = root.xpath( '/e:full-text-retrieval-response/e:originalText/xocs:doc/xocs:serial-item/ja:article/ja:head', namespaces=NS)\n",
    "\n",
    "for sec in refs:\n",
    "    for s, l, t, txt in parse(sec):\n",
    "        t = t[t.index('}')+1:]\n",
    "        print(' '*l, s,t,repr(txt))\n",
    "        tags.add(t)"
   ]
  },
  {
   "cell_type": "code",
   "execution_count": null,
   "metadata": {},
   "outputs": [],
   "source": [
    "tags"
   ]
  },
  {
   "cell_type": "code",
   "execution_count": null,
   "metadata": {},
   "outputs": [],
   "source": [
    "headers = [('Accept', 'application/vnd.crossref.unixsd+xml')]\n",
    "r = requests.get('http://dx.doi.org/10.5555/515151', headers)\n"
   ]
  },
  {
   "cell_type": "code",
   "execution_count": null,
   "metadata": {},
   "outputs": [],
   "source": [
    "r"
   ]
  },
  {
   "cell_type": "code",
   "execution_count": null,
   "metadata": {},
   "outputs": [],
   "source": [
    "r.content"
   ]
  },
  {
   "cell_type": "code",
   "execution_count": null,
   "metadata": {},
   "outputs": [],
   "source": [
    "r.headers"
   ]
  },
  {
   "cell_type": "code",
   "execution_count": null,
   "metadata": {},
   "outputs": [],
   "source": [
    "root"
   ]
  },
  {
   "cell_type": "code",
   "execution_count": null,
   "metadata": {},
   "outputs": [],
   "source": [
    "root = getxml('10734224')\n",
    "ee = Elsevier(root)"
   ]
  },
  {
   "cell_type": "code",
   "execution_count": null,
   "metadata": {},
   "outputs": [],
   "source": [
    "ee.results()"
   ]
  },
  {
   "cell_type": "code",
   "execution_count": null,
   "metadata": {},
   "outputs": [],
   "source": [
    "root.nsmap\n"
   ]
  },
  {
   "cell_type": "code",
   "execution_count": null,
   "metadata": {},
   "outputs": [],
   "source": [
    "z = '/e:originalText/xocs:doc/xocs:serial-item/*[self::ja:converted-article or self::ja:article]/ja:head/ce:title'\n",
    "e = '/e:full-text-retrieval-response'\n",
    "ee = e + z\n",
    "ee"
   ]
  },
  {
   "cell_type": "code",
   "execution_count": null,
   "metadata": {},
   "outputs": [],
   "source": [
    "NS = root.nsmap.copy()\n",
    "NS['e'] = NS.pop(None)\n",
    "NS"
   ]
  },
  {
   "cell_type": "code",
   "execution_count": null,
   "metadata": {},
   "outputs": [],
   "source": [
    "E = '/e:full-text-retrieval-response'\n",
    "ART = '*[self::ja:converted-article or self::ja:article]'\n",
    "import re\n",
    "C = re.compile(r'\\s+', re.I)\n",
    "CE = 'http://www.elsevier.com/xml/common/dtd'\n",
    "TAG = '{%s}%%s' % CE\n",
    "XREFS = {TAG % 'cross-ref', TAG % 'cross-refs'}\n",
    "ITALIC = {TAG % 'italic'}\n",
    "\n",
    "\n",
    "def para2txt2(e):\n",
    "    for t in e.xpath('.//text()'):\n",
    "        p = t.getparent()\n",
    "        if p.tag in XREFS:\n",
    "            if p.tail == t:\n",
    "                yield p.tail\n",
    "            else:\n",
    "                yield '[%s]' % p.attrib['refid']\n",
    "        elif p.tag in ITALIC and p.tail != t:\n",
    "            # yield '<i>%s</i>' % t\n",
    "            yield str(t)\n",
    "        else:\n",
    "            yield str(t)\n",
    "\n",
    "\n",
    "class Elsevier2(object):\n",
    "\n",
    "    def __init__(self, root):\n",
    "        self.root = root\n",
    "        ns = root.nsmap.copy()\n",
    "        ns['e'] = ns.pop(None)\n",
    "        self.ns = ns\n",
    "\n",
    "    def results(self):\n",
    "\n",
    "        secs = self.root.xpath(E + '/e:originalText/xocs:doc/xocs:serial-item/' + ART + '/ja:body/ce:sections',\n",
    "                               namespaces=self.ns)\n",
    "        for sec in secs:\n",
    "            for s in sec.xpath('./ce:section', namespaces=self.ns):\n",
    "                for t in s.xpath('.//ce:section-title/text()', namespaces=self.ns):\n",
    "                    if t.lower().find('results') >= 0:\n",
    "                        return s\n",
    "\n",
    "        return None\n",
    "\n",
    "    def methods(self):\n",
    "\n",
    "        secs = self.root.xpath(E + '/e:originalText/xocs:doc/xocs:serial-item/' + ART + '/ja:body/ce:sections',\n",
    "                               namespaces=self.ns)\n",
    "        for sec in secs:\n",
    "            for s in sec.xpath('./ce:section', namespaces=self.ns):\n",
    "                for t in s.xpath('.//ce:section-title/text()', namespaces=self.ns):\n",
    "                    if t.lower().find('methods') >= 0:\n",
    "                        return s\n",
    "\n",
    "        return None\n",
    "\n",
    "    def abstract(self):\n",
    "\n",
    "        secs = self.root.xpath(E + '/e:originalText/xocs:doc/xocs:serial-item/' + ART + '/ja:head/ce:abstract/ce:abstract-sec',\n",
    "                               namespaces=self.ns)\n",
    "        if not secs:\n",
    "            return None\n",
    "        return secs[0]\n",
    "\n",
    "    def tostr(self, r):\n",
    "        for p in r.xpath('.//*[self::ce:para or self::ce:simple-para]', namespaces=self.ns):\n",
    "            res = []\n",
    "            for t in para2txt2(p):\n",
    "                res.append(t)\n",
    "\n",
    "            txt = ''.join(res)\n",
    "            txt = C.sub(' ', txt)\n",
    "            yield txt.strip()"
   ]
  },
  {
   "cell_type": "code",
   "execution_count": null,
   "metadata": {},
   "outputs": [],
   "source": [
    "ee = Elsevier2(root)\n",
    "a = ee.abstract()\n",
    "a"
   ]
  },
  {
   "cell_type": "code",
   "execution_count": null,
   "metadata": {},
   "outputs": [],
   "source": [
    "list(ee.tostr(a))"
   ]
  },
  {
   "cell_type": "code",
   "execution_count": null,
   "metadata": {},
   "outputs": [],
   "source": [
    "showxml(a)"
   ]
  },
  {
   "cell_type": "code",
   "execution_count": null,
   "metadata": {},
   "outputs": [],
   "source": [
    " a.xpath('.//ce:simple-para|.//ce:para', namespaces=ee.ns)"
   ]
  },
  {
   "cell_type": "code",
   "execution_count": null,
   "metadata": {},
   "outputs": [],
   "source": [
    " a.xpath('.//*[self::ce:simple-para or self::ce:para]', namespaces=ee.ns)"
   ]
  },
  {
   "cell_type": "code",
   "execution_count": null,
   "metadata": {},
   "outputs": [],
   "source": [
    "epmc.nsmap"
   ]
  },
  {
   "cell_type": "code",
   "execution_count": null,
   "metadata": {},
   "outputs": [],
   "source": [
    "epmc.xpath('/article/front/article-meta/abstract')"
   ]
  },
  {
   "cell_type": "code",
   "execution_count": null,
   "metadata": {},
   "outputs": [],
   "source": [
    "mm = epmc.xpath('/article/body/sec[@sec-type=\"methods\"]')"
   ]
  },
  {
   "cell_type": "code",
   "execution_count": null,
   "metadata": {},
   "outputs": [],
   "source": [
    "showxml(mm)"
   ]
  },
  {
   "cell_type": "code",
   "execution_count": null,
   "metadata": {},
   "outputs": [],
   "source": [
    "mm = epmc.xpath('/article/body/sec/title[contains(translate(text(),\"ABCDEFGHIJKLMNOPQRSTUVWXYZ\",\"abcdefghijklmnopqrstuvwxyz\"),\"methods\")]/..')\n",
    "mm"
   ]
  },
  {
   "cell_type": "code",
   "execution_count": null,
   "metadata": {},
   "outputs": [],
   "source": [
    "showxml(mm)"
   ]
  },
  {
   "cell_type": "code",
   "execution_count": null,
   "metadata": {},
   "outputs": [],
   "source": [
    "res = epmc.xpath('/article/body/sec/title[contains(text(),\"Results\")]/..')\n",
    "res"
   ]
  },
  {
   "cell_type": "code",
   "execution_count": null,
   "metadata": {},
   "outputs": [],
   "source": [
    "TRANS = 'translate(text(),\"ABCDEFGHIJKLMNOPQRSTUVWXYZ\",\"abcdefghijklmnopqrstuvwxyz\")'\n",
    "\n",
    "\n",
    "import re\n",
    "\n",
    "\n",
    "EXREFS = {'xref'}\n",
    "\n",
    "EITALIC = {'i'}\n",
    "\n",
    "\n",
    "def para2txt3(e):\n",
    "    for t in e.xpath('.//text()'):\n",
    "        p = t.getparent()\n",
    "        if p.tag in EXREFS:\n",
    "            if p.tail == t:\n",
    "                yield p.tail\n",
    "            else:\n",
    "                yield '[%s]' % p.attrib['rid']\n",
    "        elif p.tag in EITALIC and p.tail != t:\n",
    "            # yield '<i>%s</i>' % t\n",
    "            yield str(t)\n",
    "        else:\n",
    "            yield str(t)\n",
    "\n",
    "\n",
    "class EPMC(object):\n",
    "    SPACE = re.compile(r'\\s+', re.I)\n",
    "    \n",
    "    def __init__(self, root):\n",
    "        self.root = root\n",
    "\n",
    "    def abstract(self):\n",
    "        res = self.root.xpath('/article/front/article-meta/abstract')\n",
    "        if not res:\n",
    "            return None\n",
    "        return res[0]\n",
    "\n",
    "    def methods(self):\n",
    "        mm = self.root.xpath('/article/body/sec[@sec-type=\"methods\"]')\n",
    "        if not mm:\n",
    "            return None\n",
    "        return mm[0]\n",
    "\n",
    "    def results(self):\n",
    "        res = epmc.xpath(\n",
    "            '/article/body/sec/title[contains(' + TRANS + ',\"results\")]/..')\n",
    "        if not res:\n",
    "            return None\n",
    "        return res[0]\n",
    "\n",
    "    def tostr(self, r):\n",
    "        for p in r.xpath('.//p'):\n",
    "            res = []\n",
    "            for t in para2txt3(p):\n",
    "                res.append(t)\n",
    "\n",
    "            txt = ''.join(res)\n",
    "            txt = self.SPACE.sub(' ', txt)\n",
    "            yield txt.strip()"
   ]
  },
  {
   "cell_type": "code",
   "execution_count": null,
   "metadata": {},
   "outputs": [],
   "source": [
    "e = EPMC(epmc)"
   ]
  },
  {
   "cell_type": "code",
   "execution_count": null,
   "metadata": {},
   "outputs": [],
   "source": [
    "list(e.tostr(e.methods()))"
   ]
  },
  {
   "cell_type": "code",
   "execution_count": null,
   "metadata": {},
   "outputs": [],
   "source": [
    "showxml(e.methods())"
   ]
  },
  {
   "cell_type": "markdown",
   "metadata": {},
   "source": [
    "Journal Title\n",
    "ISSN\n",
    "Electronic ISSN\n",
    "Publication Year\n",
    "Volume\n",
    "Issue\n",
    "Page\n",
    "DOI (if available)\n",
    "PMCID\n",
    "PubMed ID (if available)\n",
    "Manuscript ID (if available)\n",
    "Release Date (Mmm DD YYYY or live)"
   ]
  },
  {
   "cell_type": "code",
   "execution_count": null,
   "metadata": {},
   "outputs": [],
   "source": [
    "!wget ftp://ftp.ncbi.nlm.nih.gov/pub/pmc/PMC-ids.csv.gz"
   ]
  },
  {
   "cell_type": "code",
   "execution_count": null,
   "metadata": {},
   "outputs": [],
   "source": [
    "import gzip\n",
    "import csv\n",
    "from collections import Counter\n",
    "issn = {}\n",
    "with open(os.path.expanduser('~/Downloads/jnlactive.csv'), encoding='latin1') as fp:\n",
    "    R = csv.reader(fp)\n",
    "    h = next(R)\n",
    "    for row in R:\n",
    "        issn[row[1]] = row[0]\n",
    "\n",
    "summary = Counter()\n",
    "with gzip.open(os.path.expanduser('~/Downloads/PMC-ids.csv.gz'), 'rt') as fp:\n",
    "    R = csv.reader(fp)\n",
    "    h = next(R)\n",
    "    # print(h)\n",
    "    n = 0\n",
    "    for row in R:\n",
    "        n +=1\n",
    "        i = row[1]\n",
    "        i = i.replace('-', '')\n",
    "        if i in issn:\n",
    "            summary[i] +=1\n",
    "        # print(i,row)\n",
    "        # if n > 20:\n",
    "        #    break\n",
    "for i in summary:\n",
    "    print(i, issn[i], summary[i])"
   ]
  },
  {
   "cell_type": "code",
   "execution_count": null,
   "metadata": {},
   "outputs": [],
   "source": [
    "sum(summary.values())"
   ]
  },
  {
   "cell_type": "code",
   "execution_count": null,
   "metadata": {},
   "outputs": [],
   "source": [
    "from bs4 import BeautifulSoup\n",
    "from io import BytesIO\n",
    "doi = 'https://doi.org/10.1105/tpc.12.2.279' # Plant Cell\n",
    "# doi = 'https://doi.org/10.1104/pp.16.01539' # Plant Phys\n",
    "resp = requests.get(doi)\n",
    "soup = BeautifulSoup(BytesIO(resp.content), \"html.parser\")"
   ]
  },
  {
   "cell_type": "code",
   "execution_count": null,
   "metadata": {},
   "outputs": [],
   "source": [
    "resp.url"
   ]
  },
  {
   "cell_type": "code",
   "execution_count": null,
   "metadata": {},
   "outputs": [],
   "source": [
    "a = soup.select('div.article.fulltext-view')[0]\n",
    "str(a)"
   ]
  },
  {
   "cell_type": "code",
   "execution_count": null,
   "metadata": {},
   "outputs": [],
   "source": [
    "[s.attrs for s in a.select('div.section')]"
   ]
  },
  {
   "cell_type": "code",
   "execution_count": null,
   "metadata": {},
   "outputs": [],
   "source": [
    "[p.text for p in a.select('div.section.results p')]"
   ]
  },
  {
   "cell_type": "code",
   "execution_count": null,
   "metadata": {},
   "outputs": [],
   "source": [
    "for sec in a.select('div.section'):\n",
    "    txt = sec.find('h2').string\n",
    "    print(sec.attrs, txt)"
   ]
  },
  {
   "cell_type": "code",
   "execution_count": null,
   "metadata": {},
   "outputs": [],
   "source": [
    "from bs4 import BeautifulSoup\n",
    "from io import BytesIO\n",
    "\n",
    "s = [dict(queryString='0021-9258',fieldName='issn')]\n",
    "data=dict(searchRowCriteria=s,\n",
    "dateRange='allDates',\n",
    "inTheLastList=6)\n",
    "resp = requests.post('http://onlinelibrary.wiley.com/advanced/search', data=data)\n",
    "\n",
    "soup = BeautifulSoup(BytesIO(resp.content))\n",
    "print(soup.prettify())"
   ]
  },
  {
   "cell_type": "code",
   "execution_count": null,
   "metadata": {},
   "outputs": [],
   "source": [
    "req = requests.Request('POST','http://onlinelibrary.wiley.com/advanced/search',data=data)\n",
    "p = req.prepare()\n",
    "p.body\n"
   ]
  },
  {
   "cell_type": "code",
   "execution_count": null,
   "metadata": {},
   "outputs": [],
   "source": [
    "url = 'http://onlinelibrary.wiley.com/doi/10.1111/j.1365-313X.2004.02057.x/full'\n",
    "resp = requests.get(url)\n",
    "soup = BeautifulSoup(BytesIO(resp.content), 'html.parser')"
   ]
  },
  {
   "cell_type": "code",
   "execution_count": null,
   "metadata": {},
   "outputs": [],
   "source": [
    "[p.text for p in soup.select('article section#abstract p')]"
   ]
  },
  {
   "cell_type": "code",
   "execution_count": null,
   "metadata": {},
   "outputs": [],
   "source": [
    "[p.text for p in soup.select('article section.article-body-section p')]"
   ]
  },
  {
   "cell_type": "code",
   "execution_count": null,
   "metadata": {},
   "outputs": [],
   "source": [
    "for p in soup.select('article section.article-body-section p a[title=\"Link to bibliographic citation\"]'):\n",
    "    p.replace_with('CITATION')\n",
    "for p in soup.select('article section.article-body-section p'):\n",
    "    print(p.text)"
   ]
  },
  {
   "cell_type": "code",
   "execution_count": null,
   "metadata": {},
   "outputs": [],
   "source": [
    "a = soup.select('article')[0]\n",
    "\n"
   ]
  },
  {
   "cell_type": "code",
   "execution_count": null,
   "metadata": {},
   "outputs": [],
   "source": [
    "a."
   ]
  },
  {
   "cell_type": "code",
   "execution_count": null,
   "metadata": {},
   "outputs": [],
   "source": [
    "for sec in a.select('section.article-body-section'):\n",
    "    h2 = sec.find('h2')\n",
    "    if h2 and h2.string.lower() == 'results':\n",
    "        \n",
    "    # sec.find('h2').string.lower() == 'results'\n",
    "    "
   ]
  },
  {
   "cell_type": "code",
   "execution_count": null,
   "metadata": {},
   "outputs": [],
   "source": [
    "doi = '10.1074/jbc.M115.683656'\n",
    "resp = requests.get('http://doi.org/{}'.format(doi))\n",
    "if not resp.url.endswith('.full'):\n",
    "    resp = requests.get(resp.url + '.full')\n",
    "soup = BeautifulSoup(BytesIO(resp.content), 'html.parser')"
   ]
  },
  {
   "cell_type": "code",
   "execution_count": null,
   "metadata": {},
   "outputs": [],
   "source": [
    "[p.text for p in soup.select('div.section.abstract p')]"
   ]
  },
  {
   "cell_type": "code",
   "execution_count": null,
   "metadata": {},
   "outputs": [],
   "source": [
    "soup.select('div.article.fulltext-view')"
   ]
  },
  {
   "cell_type": "code",
   "execution_count": null,
   "metadata": {},
   "outputs": [],
   "source": [
    "doi = '10.1093/pcp/pcx070'\n",
    "resp = requests.get('http://doi.org/{}'.format(doi))\n",
    "soup = BeautifulSoup(BytesIO(resp.content), 'html.parser')"
   ]
  },
  {
   "cell_type": "code",
   "execution_count": null,
   "metadata": {},
   "outputs": [],
   "source": [
    "doi = '10.1093/pcp/pcx070'\n",
    "resp = requests.get('http://doi.org/{}'.format(doi))"
   ]
  },
  {
   "cell_type": "code",
   "execution_count": null,
   "metadata": {},
   "outputs": [],
   "source": [
    "soup = BeautifulSoup(BytesIO(resp.content), 'html.parser')"
   ]
  },
  {
   "cell_type": "code",
   "execution_count": null,
   "metadata": {},
   "outputs": [],
   "source": [
    "soup.find('div', attrs={'data-widgetname': 'ArticleFulltext'})"
   ]
  },
  {
   "cell_type": "code",
   "execution_count": null,
   "metadata": {},
   "outputs": [],
   "source": [
    "soup"
   ]
  },
  {
   "cell_type": "code",
   "execution_count": null,
   "metadata": {},
   "outputs": [],
   "source": [
    "from IPython.display import IFrame\n",
    "IFrame(resp.url, width='100%',height=600)"
   ]
  },
  {
   "cell_type": "code",
   "execution_count": null,
   "metadata": {},
   "outputs": [],
   "source": [
    "with open('nlpready/dump_18507772.html', 'rb') as fp:\n",
    "    soup = BeautifulSoup(fp, 'html.parser')"
   ]
  },
  {
   "cell_type": "code",
   "execution_count": null,
   "metadata": {},
   "outputs": [],
   "source": [
    "soup.select('article div.article__body')"
   ]
  },
  {
   "cell_type": "code",
   "execution_count": null,
   "metadata": {},
   "outputs": [],
   "source": [
    "doi = '10.1093/pcp/pcx070'\n",
    "resp = requests.get('http://doi.org/{}'.format(doi))\n",
    "from IPython.display import IFrame\n",
    "IFrame(resp.url, width='100%',height=600)"
   ]
  },
  {
   "cell_type": "code",
   "execution_count": null,
   "metadata": {},
   "outputs": [],
   "source": []
  }
 ],
 "metadata": {
  "language_info": {
   "name": "python",
   "pygments_lexer": "ipython3"
  }
 },
 "nbformat": 4,
 "nbformat_minor": 2
}
