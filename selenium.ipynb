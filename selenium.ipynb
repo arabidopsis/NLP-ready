{
 "cells": [
  {
   "cell_type": "code",
   "execution_count": null,
   "id": "cd6175ae-23ac-4491-9aa5-9141d8bfe389",
   "metadata": {},
   "outputs": [],
   "source": [
    "%load_ext autoreload\n",
    "%autoreload 2"
   ]
  },
  {
   "cell_type": "code",
   "execution_count": null,
   "id": "b15a3ee6-d9f6-492b-a734-321305c6473c",
   "metadata": {},
   "outputs": [],
   "source": [
    "from html_to_markdown import convert_to_markdown\n",
    "from IPython.display import display, Markdown"
   ]
  },
  {
   "cell_type": "code",
   "execution_count": null,
   "id": "2c86f325-0d14-4057-84b0-6fe4ac6b6e58",
   "metadata": {},
   "outputs": [],
   "source": [
    "from scifeeder.utils import read_papers_csv\n",
    "from scifeeder.types import Paper\n",
    "papers=list(read_papers_csv('suba_j.csv'))"
   ]
  },
  {
   "cell_type": "code",
   "execution_count": null,
   "id": "946f010d-ede9-494b-b6a6-1420ea26ba01",
   "metadata": {},
   "outputs": [],
   "source": [
    "from collections import Counter\n",
    "counts = Counter()\n",
    "for p in papers:\n",
    "    if p.issn and p.doi:\n",
    "        counts[p.issn]+=1"
   ]
  },
  {
   "cell_type": "code",
   "execution_count": null,
   "id": "1043e71b-4836-4feb-ad2f-e0e601c3975d",
   "metadata": {},
   "outputs": [],
   "source": [
    "from scifeeder.selenium_cls import Selenium\n",
    "from scifeeder.issn import DATA"
   ]
  },
  {
   "cell_type": "code",
   "execution_count": null,
   "id": "1322eb4a-b331-4eb1-80b0-a0a77a0a6aef",
   "metadata": {},
   "outputs": [],
   "source": [
    "paper = None\n",
    "for idx, p1 in enumerate(reversed(papers)):\n",
    "    if p1.issn:\n",
    "        if p1.issn in {\"0253-9772\"}:\n",
    "            continue\n",
    "    if (p1.issn not in DATA) and p1.doi and p1.year > 1980 and counts[p1.issn] > 0:\n",
    "        paper = p1\n",
    "        break\n",
    "print(idx, len(papers), len(counts), len(DATA))\n",
    "if paper:\n",
    "    paper.issn in DATA"
   ]
  },
  {
   "cell_type": "code",
   "execution_count": null,
   "id": "114df66b-6077-4f59-8eb1-0ea3353c0e22",
   "metadata": {},
   "outputs": [],
   "source": [
    "paper = papers[204]"
   ]
  },
  {
   "cell_type": "code",
   "execution_count": null,
   "id": "170793e3-5716-4a5d-bcc1-b01bd895e608",
   "metadata": {},
   "outputs": [],
   "source": [
    "f\"https://doi.org/{paper.doi}\""
   ]
  },
  {
   "cell_type": "code",
   "execution_count": null,
   "id": "22fd0719-91a7-4d16-9e14-f0d6c70fbc47",
   "metadata": {},
   "outputs": [],
   "source": [
    "paper"
   ]
  },
  {
   "cell_type": "code",
   "execution_count": null,
   "id": "0ada6761-a742-45ac-8d27-3a367d2349e5",
   "metadata": {},
   "outputs": [],
   "source": [
    "def toline(p):\n",
    "    return f'\"{p.issn}\": {p.key},'\n",
    "print(toline(paper))"
   ]
  },
  {
   "cell_type": "code",
   "execution_count": null,
   "id": "ece02376-dda8-4fc8-b2be-2001dec856de",
   "metadata": {
    "scrolled": true
   },
   "outputs": [],
   "source": [
    "from scifeeder.selenium_cls import Selenium, Soup, UndetectedSelenium\n",
    "\n",
    "from scifeeder.issn import DATA\n",
    "\n",
    "assert paper.issn in DATA and paper.doi, paper\n",
    "# web = UndetectedSelenium(timeout=15, headless=True)\n",
    "web = Selenium(timeout=15, headless=False)\n",
    "markdown, soup = web.run(paper.doi, DATA[paper.issn])\n",
    "if markdown:\n",
    "    with open('saved.md', 'wt') as fp:\n",
    "        fp.write(markdown)\n",
    "Markdown(markdown)"
   ]
  },
  {
   "cell_type": "code",
   "execution_count": null,
   "id": "454528c7-5efa-44a7-b8fc-b0b18c97826a",
   "metadata": {},
   "outputs": [],
   "source": [
    "assert paper.issn in DATA and paper.doi, paper\n",
    "markdown, soup = web.run(paper.doi, DATA[paper.issn])\n",
    "if markdown:\n",
    "    with open('saved.md', 'wt') as fp:\n",
    "        fp.write(markdown)\n",
    "Markdown(markdown)"
   ]
  },
  {
   "cell_type": "code",
   "execution_count": null,
   "id": "5b0e00fd-7233-4cc3-ad5c-c9c74158a108",
   "metadata": {},
   "outputs": [],
   "source": [
    "markdown is None"
   ]
  },
  {
   "cell_type": "code",
   "execution_count": null,
   "id": "c99bcf7f-9ac8-4b37-a58b-0fddba16011a",
   "metadata": {},
   "outputs": [],
   "source": [
    "HTML(web.find_html())"
   ]
  },
  {
   "cell_type": "code",
   "execution_count": null,
   "id": "16043c81-34ce-4bb3-a174-03386dba8ad5",
   "metadata": {},
   "outputs": [],
   "source": [
    "from bs4 import BeautifulSoup\n",
    "soup = BeautifulSoup(web.find_html(),\"lxml\")\n",
    "print(soup.prettify())"
   ]
  },
  {
   "cell_type": "code",
   "execution_count": null,
   "id": "4509e55a-9efa-4c6c-b42b-c90bc4a60c52",
   "metadata": {
    "scrolled": true
   },
   "outputs": [],
   "source": [
    "c=web.pdf(DATA[p.issn])\n",
    "if c is not None:\n",
    "    with open('saved.pdf', 'wb') as fp:\n",
    "        fp.write(c)"
   ]
  },
  {
   "cell_type": "code",
   "execution_count": null,
   "id": "f3b4813b-c847-4452-b5a7-e2bfc663ade3",
   "metadata": {
    "scrolled": true
   },
   "outputs": [],
   "source": [
    "soup=web.resoupify()\n",
    "pages = soup.select('[id=\"viewer\"] .page')\n",
    "\n",
    "Markdown(web.tofrag(web.find_html(), Location('[id=\"viewer\"] .page')))"
   ]
  },
  {
   "cell_type": "markdown",
   "id": "8bbc5f57-93ee-4e9c-bff3-495a165e2100",
   "metadata": {},
   "source": [
    "----\n",
    "\n",
    "## EPMC"
   ]
  },
  {
   "cell_type": "code",
   "execution_count": null,
   "id": "582cd8e3-cabd-46bf-bad4-47f4677df7a2",
   "metadata": {},
   "outputs": [],
   "source": [
    "from bs4 import BeautifulSoup\n",
    "from io import StringIO, BytesIO\n",
    "from html_to_markdown import convert_to_markdown\n",
    "from IPython.display import HTML, Markdown"
   ]
  },
  {
   "cell_type": "code",
   "execution_count": null,
   "id": "5277061c-5155-4774-af51-4ee2379d08f5",
   "metadata": {},
   "outputs": [],
   "source": [
    "from scifeeder.epmc import EPMC\n",
    "from scifeeder.xml_utils import Events, PMCEvents, PMCTAGS"
   ]
  },
  {
   "cell_type": "code",
   "execution_count": null,
   "id": "437bd159-f5c7-40a6-9938-3622873ad660",
   "metadata": {},
   "outputs": [],
   "source": [
    "from IPython.display import HTML"
   ]
  },
  {
   "cell_type": "code",
   "execution_count": null,
   "id": "c9ae290b-6c68-46c8-af84-bd6ac956c7ce",
   "metadata": {},
   "outputs": [],
   "source": [
    "DONE= {'PMC5486124', 'PMC5447075', 'PMC5853234', 'PMC5490910', 'PMC5490927', 'PMC5823009', 'PMC5399074',\n",
    "      'PMC5575511', 'PMC5387099', 'PMC5405513', 'PMC5412409', 'PMC5462045', 'PMC5444443', 'PMC5435427'}"
   ]
  },
  {
   "cell_type": "code",
   "execution_count": null,
   "id": "b7226257-b311-451a-b54b-0a789c268609",
   "metadata": {},
   "outputs": [],
   "source": [
    "\n",
    "for p in reversed(papers):\n",
    "    if p.pmcid and p.pmcid not in DONE and p.year > 2010:\n",
    "        break\n",
    "p"
   ]
  },
  {
   "cell_type": "code",
   "execution_count": null,
   "id": "408db355-70f5-413e-adef-2c430f931203",
   "metadata": {},
   "outputs": [],
   "source": [
    "f\"https://doi.org/{p.doi}\""
   ]
  },
  {
   "cell_type": "code",
   "execution_count": null,
   "id": "68094481-b7e6-41fe-a161-8035c2614e99",
   "metadata": {},
   "outputs": [],
   "source": [
    "CSS=\"\"\"\n",
    "<style>\n",
    ".email { color:orange; }\n",
    ".title-group { color: blue; font-size: 14pt; }\n",
    "figure { border: solid orange 1px; padding: 0.5em; }\n",
    ".missing { font-size:larger; color: red; }\n",
    ".sc { color: red; font-weight: bold; }\n",
    "</style>\n",
    "\"\"\""
   ]
  },
  {
   "cell_type": "code",
   "execution_count": null,
   "id": "da0f8b1b-4ab4-4cb6-97e9-2f106b3226ee",
   "metadata": {
    "scrolled": true
   },
   "outputs": [],
   "source": [
    "x =  EPMC.from_pmcid(p.pmcid)\n",
    "html = x.html()\n",
    "if x.missing:\n",
    "    print(x.missing)\n",
    "HTML(CSS + html)"
   ]
  },
  {
   "cell_type": "code",
   "execution_count": null,
   "id": "f333636d-675c-44d3-a609-d666f27ace47",
   "metadata": {},
   "outputs": [],
   "source": [
    "# x.save_content('saved.xml')"
   ]
  },
  {
   "cell_type": "code",
   "execution_count": null,
   "id": "826f8bef-5533-41cc-b6ad-e419bd16f3b0",
   "metadata": {},
   "outputs": [],
   "source": [
    "x.save_content(\"saved.xml\", pretty=True)"
   ]
  }
 ],
 "metadata": {
  "kernelspec": {
   "display_name": "Python 3 (ipykernel)",
   "language": "python",
   "name": "python3"
  },
  "language_info": {
   "codemirror_mode": {
    "name": "ipython",
    "version": 3
   },
   "file_extension": ".py",
   "mimetype": "text/x-python",
   "name": "python",
   "nbconvert_exporter": "python",
   "pygments_lexer": "ipython3",
   "version": "3.12.9"
  }
 },
 "nbformat": 4,
 "nbformat_minor": 5
}
