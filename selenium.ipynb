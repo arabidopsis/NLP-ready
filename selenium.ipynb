{
 "cells": [
  {
   "cell_type": "code",
   "execution_count": null,
   "id": "cd6175ae-23ac-4491-9aa5-9141d8bfe389",
   "metadata": {},
   "outputs": [],
   "source": [
    "%load_ext autoreload\n",
    "%autoreload 2"
   ]
  },
  {
   "cell_type": "code",
   "execution_count": null,
   "id": "b15a3ee6-d9f6-492b-a734-321305c6473c",
   "metadata": {},
   "outputs": [],
   "source": [
    "from html_to_markdown import convert_to_markdown\n",
    "from IPython.display import display, Markdown"
   ]
  },
  {
   "cell_type": "code",
   "execution_count": null,
   "id": "2c86f325-0d14-4057-84b0-6fe4ac6b6e58",
   "metadata": {},
   "outputs": [],
   "source": [
    "from scifeeder.utils import read_papers_csv\n",
    "from scifeeder.types import Paper\n",
    "papers=list(read_papers_csv('suba_j.csv'))"
   ]
  },
  {
   "cell_type": "code",
   "execution_count": null,
   "id": "946f010d-ede9-494b-b6a6-1420ea26ba01",
   "metadata": {},
   "outputs": [],
   "source": [
    "from collections import Counter\n",
    "counts = Counter()\n",
    "for p in papers:\n",
    "    if p.issn and p.doi:\n",
    "        counts[p.issn]+=1"
   ]
  },
  {
   "cell_type": "code",
   "execution_count": null,
   "id": "1043e71b-4836-4feb-ad2f-e0e601c3975d",
   "metadata": {},
   "outputs": [],
   "source": [
    "from scifeeder.selenium_cls import Selenium\n",
    "from scifeeder.issn import ISSN_MAP"
   ]
  },
  {
   "cell_type": "code",
   "execution_count": null,
   "id": "1322eb4a-b331-4eb1-80b0-a0a77a0a6aef",
   "metadata": {},
   "outputs": [],
   "source": [
    "paper = None\n",
    "for idx, p1 in enumerate(reversed(papers)):\n",
    "    if p1.issn:\n",
    "        if p1.issn in {\"0253-9772\"}:\n",
    "            continue\n",
    "    if (p1.issn not in DATA) and p1.doi and p1.year > 1980 and counts[p1.issn] > 0:\n",
    "        paper = p1\n",
    "        break\n",
    "print(idx, len(papers), len(counts), len(ISSN_MAP))\n",
    "if paper:\n",
    "    paper.issn in ISSN_MAP"
   ]
  },
  {
   "cell_type": "code",
   "execution_count": null,
   "id": "114df66b-6077-4f59-8eb1-0ea3353c0e22",
   "metadata": {},
   "outputs": [],
   "source": [
    "paper = papers[311]"
   ]
  },
  {
   "cell_type": "code",
   "execution_count": null,
   "id": "170793e3-5716-4a5d-bcc1-b01bd895e608",
   "metadata": {},
   "outputs": [],
   "source": [
    "f\"https://doi.org/{paper.doi}\""
   ]
  },
  {
   "cell_type": "code",
   "execution_count": null,
   "id": "22fd0719-91a7-4d16-9e14-f0d6c70fbc47",
   "metadata": {},
   "outputs": [],
   "source": [
    "paper"
   ]
  },
  {
   "cell_type": "code",
   "execution_count": null,
   "id": "0ada6761-a742-45ac-8d27-3a367d2349e5",
   "metadata": {},
   "outputs": [],
   "source": [
    "def toline(p):\n",
    "    return f'\"{p.issn}\": {p.key},'\n",
    "print(toline(paper))"
   ]
  },
  {
   "cell_type": "code",
   "execution_count": null,
   "id": "ece02376-dda8-4fc8-b2be-2001dec856de",
   "metadata": {
    "scrolled": true
   },
   "outputs": [],
   "source": [
    "from scifeeder.selenium_cls import Selenium, Soup, StealthSelenium\n",
    "\n",
    "from scifeeder.issn import ISSN_MAP\n",
    "\n",
    "assert paper.issn in ISSN_MAP and paper.doi, paper\n",
    "# web = StealthSelenium(timeout=15, headless=True)\n",
    "web = Selenium(timeout=15, headless=False)\n",
    "markdown, soup = web.run(paper.doi, ISSN_MAP[paper.issn])\n",
    "if markdown:\n",
    "    with open('saved.md', 'wt') as fp:\n",
    "        fp.write(markdown)\n",
    "Markdown(markdown)"
   ]
  },
  {
   "cell_type": "code",
   "execution_count": null,
   "id": "454528c7-5efa-44a7-b8fc-b0b18c97826a",
   "metadata": {
    "scrolled": true
   },
   "outputs": [],
   "source": [
    "assert paper.issn in DATA and paper.doi, paper\n",
    "markdown, soup = web.run(paper.doi, DATA[paper.issn])\n",
    "if markdown:\n",
    "    with open('saved.md', 'wt') as fp:\n",
    "        fp.write(markdown)\n",
    "Markdown(markdown)"
   ]
  },
  {
   "cell_type": "code",
   "execution_count": null,
   "id": "c99bcf7f-9ac8-4b37-a58b-0fddba16011a",
   "metadata": {},
   "outputs": [],
   "source": [
    "HTML(web.find_html())"
   ]
  },
  {
   "cell_type": "markdown",
   "id": "8bbc5f57-93ee-4e9c-bff3-495a165e2100",
   "metadata": {},
   "source": [
    "----\n",
    "\n",
    "## EPMC"
   ]
  },
  {
   "cell_type": "code",
   "execution_count": null,
   "id": "582cd8e3-cabd-46bf-bad4-47f4677df7a2",
   "metadata": {},
   "outputs": [],
   "source": [
    "from bs4 import BeautifulSoup\n",
    "from io import StringIO, BytesIO\n",
    "from html_to_markdown import convert_to_markdown\n",
    "from IPython.display import HTML, Markdown"
   ]
  },
  {
   "cell_type": "code",
   "execution_count": null,
   "id": "5277061c-5155-4774-af51-4ee2379d08f5",
   "metadata": {},
   "outputs": [],
   "source": [
    "from scifeeder.epmc import EPMC\n",
    "from scifeeder.xml_utils import Events, PMCEvents, PMCTAGS"
   ]
  },
  {
   "cell_type": "code",
   "execution_count": null,
   "id": "437bd159-f5c7-40a6-9938-3622873ad660",
   "metadata": {},
   "outputs": [],
   "source": [
    "from IPython.display import HTML"
   ]
  },
  {
   "cell_type": "code",
   "execution_count": null,
   "id": "c9ae290b-6c68-46c8-af84-bd6ac956c7ce",
   "metadata": {},
   "outputs": [],
   "source": [
    "DONE= {'PMC5486124', 'PMC5447075', 'PMC5853234', 'PMC5490910', 'PMC5490927', 'PMC5823009', 'PMC5399074',\n",
    "      'PMC5575511', 'PMC5387099', 'PMC5405513', 'PMC5412409', 'PMC5462045', 'PMC5444443', 'PMC5435427'}"
   ]
  },
  {
   "cell_type": "code",
   "execution_count": null,
   "id": "b7226257-b311-451a-b54b-0a789c268609",
   "metadata": {},
   "outputs": [],
   "source": [
    "\n",
    "for p in reversed(papers):\n",
    "    if p.pmcid and p.pmcid not in DONE and p.year > 2010:\n",
    "        break\n",
    "p"
   ]
  },
  {
   "cell_type": "code",
   "execution_count": null,
   "id": "408db355-70f5-413e-adef-2c430f931203",
   "metadata": {},
   "outputs": [],
   "source": [
    "f\"https://doi.org/{p.doi}\""
   ]
  },
  {
   "cell_type": "code",
   "execution_count": null,
   "id": "68094481-b7e6-41fe-a161-8035c2614e99",
   "metadata": {},
   "outputs": [],
   "source": [
    "CSS=\"\"\"\n",
    "<style>\n",
    ".email { color:orange; }\n",
    ".title-group { color: blue; font-size: 14pt; }\n",
    "figure { border: solid orange 1px; padding: 0.5em; }\n",
    ".missing { font-size:larger; color: red; }\n",
    ".sc { color: red; font-weight: bold; }\n",
    "</style>\n",
    "\"\"\""
   ]
  },
  {
   "cell_type": "code",
   "execution_count": null,
   "id": "da0f8b1b-4ab4-4cb6-97e9-2f106b3226ee",
   "metadata": {
    "scrolled": true
   },
   "outputs": [],
   "source": [
    "x =  EPMC.from_pmcid(p.pmcid)\n",
    "html = x.html()\n",
    "if x.missing:\n",
    "    print(x.missing)\n",
    "HTML(CSS + html)"
   ]
  },
  {
   "cell_type": "code",
   "execution_count": null,
   "id": "f333636d-675c-44d3-a609-d666f27ace47",
   "metadata": {},
   "outputs": [],
   "source": [
    "# x.save_content('saved.xml')"
   ]
  },
  {
   "cell_type": "code",
   "execution_count": null,
   "id": "826f8bef-5533-41cc-b6ad-e419bd16f3b0",
   "metadata": {},
   "outputs": [],
   "source": [
    "x.save_content(\"saved.xml\", pretty=True)"
   ]
  },
  {
   "cell_type": "markdown",
   "id": "ab593284-e993-47e6-ab7d-1fb50509f5eb",
   "metadata": {},
   "source": [
    "----\n",
    "\n",
    "## Runner"
   ]
  },
  {
   "cell_type": "code",
   "execution_count": null,
   "id": "b640e0cf-7bde-422c-b6b7-6ef880d0bb4c",
   "metadata": {},
   "outputs": [],
   "source": [
    "from scifeeder.runner import Runner\n",
    "from scifeeder.cache import Cache\n",
    "from scifeeder.epmc import EPMC\n",
    "from scifeeder.ncbi import NCBI"
   ]
  },
  {
   "cell_type": "code",
   "execution_count": null,
   "id": "6d7a0eff-acff-4e11-bb4e-5a99c03c1d73",
   "metadata": {},
   "outputs": [],
   "source": [
    "from scifeeder.utils import read_papers_csv\n",
    "from scifeeder.types import Paper\n",
    "papers=list(read_papers_csv('suba_j.csv'))"
   ]
  },
  {
   "cell_type": "code",
   "execution_count": null,
   "id": "b03d47d4-20f7-42d3-b9d4-5ed413d6d0b0",
   "metadata": {},
   "outputs": [],
   "source": [
    "DONE = {'11511543', '20847098', '21051552'}"
   ]
  },
  {
   "cell_type": "code",
   "execution_count": null,
   "id": "7bbb86f2-d473-40b6-9c7b-902448f12e04",
   "metadata": {},
   "outputs": [],
   "source": [
    "for p in papers:\n",
    "    if p.pmcid and p.pmid not in DONE and p.year > 2010:\n",
    "        break\n",
    "p"
   ]
  },
  {
   "cell_type": "code",
   "execution_count": null,
   "id": "56e585a1-d81e-4146-a1dd-ac96d907fec6",
   "metadata": {},
   "outputs": [],
   "source": [
    "from scifeeder.ncbi import NCBI"
   ]
  },
  {
   "cell_type": "code",
   "execution_count": null,
   "id": "368e899a-130c-494a-ba36-20ea8b219d0f",
   "metadata": {},
   "outputs": [],
   "source": [
    "x = NCBI.from_pmcid(p.pmcid)"
   ]
  },
  {
   "cell_type": "code",
   "execution_count": null,
   "id": "f8f11cd5-5556-40b7-8976-56b8c8a83c84",
   "metadata": {
    "scrolled": true
   },
   "outputs": [],
   "source": [
    "markdown = x.article()\n",
    "Markdown(markdown)"
   ]
  },
  {
   "cell_type": "code",
   "execution_count": null,
   "id": "4755a329-081b-43e3-8c71-278b1a96562c",
   "metadata": {},
   "outputs": [],
   "source": [
    "len([p for p in papers if p.pmcid]), len(papers), len([p for p in papers if p.doi])"
   ]
  },
  {
   "cell_type": "code",
   "execution_count": null,
   "id": "deac2b48-efa6-4f3e-8e29-b2820e1d77ab",
   "metadata": {},
   "outputs": [],
   "source": [
    "what = [p for p in papers if not p.doi and not p.pmcid]\n",
    "\n",
    "for p in what:\n",
    "    url=f\"https://ncbi.nlm.nih.gov/pubmed/{p.pmid}/\"\n",
    "    print(p.pmid, p.year, url)"
   ]
  },
  {
   "cell_type": "code",
   "execution_count": null,
   "id": "0246036c-c1bc-4339-a789-810e976ecea7",
   "metadata": {},
   "outputs": [],
   "source": [
    "html = x.html(True)\n",
    "with open('saved.html', 'wt') as fp:\n",
    "    fp.write(html)"
   ]
  },
  {
   "cell_type": "code",
   "execution_count": null,
   "id": "ef94dfdd-a61e-4ed3-b96e-bda5eb05ad65",
   "metadata": {},
   "outputs": [],
   "source": [
    "cache = Cache('mycache')\n",
    "cache.fetch_ncbi(p)"
   ]
  },
  {
   "cell_type": "code",
   "execution_count": null,
   "id": "f02cf53c-1768-42a9-941d-0ec2965cc7d1",
   "metadata": {},
   "outputs": [],
   "source": [
    "from scifeeder.runner import Runner\n",
    "from scifeeder.selenium_cls import Selenium, StealthSelenium\n",
    "from scifeeder.cache import Cache\n",
    "\n",
    "from scifeeder.issn import ISSN_MAP\n",
    "class SeleniumRunner(Runner):\n",
    "\n",
    "    def start(self):\n",
    "\n",
    "        self.cache = Cache('scache')\n",
    "        self.web = self.create_driver()\n",
    "        self.ok = 0\n",
    "        self.failed = 0\n",
    "\n",
    "    def create_driver(self):\n",
    "        return StealthSelenium(headless=True)\n",
    "        \n",
    "    def work(self, paper, tqdm):\n",
    "        tqdm.write(f'working... {paper.pmid}')\n",
    "        if not paper.doi:\n",
    "            return 'nodoi'\n",
    "        if paper.issn not in ISSN_MAP:\n",
    "            return 'noissn'\n",
    "\n",
    "        try:\n",
    "            html =  self.web.fetch_html(paper.doi,ISSN_MAP[paper.issn])\n",
    "            if html is None:\n",
    "                self.web = self.create_driver()\n",
    "                tqdm.write('retry....')\n",
    "                html =  self.web.fetch_html(paper.doi,ISSN_MAP[paper.issn])\n",
    "            if html is None:\n",
    "                retval= 'cc'\n",
    "            elif not html:\n",
    "                retval= 'timeout'\n",
    "            else:\n",
    "                self.cache.save_html(paper, html)\n",
    "                retval = 'ok'\n",
    "        except Exception as e:\n",
    "            tqdm.write(f'failed: {paper.pmid} {e}')\n",
    "            retval= 'failed'\n",
    "        tqdm.write(retval)\n",
    "        return retval\n",
    "\n",
    "    def end(self):\n",
    "        self.web.close()\n",
    "    \n"
   ]
  },
  {
   "cell_type": "code",
   "execution_count": null,
   "id": "b7f6f190-a68f-4321-8dc0-da8895e9b593",
   "metadata": {},
   "outputs": [],
   "source": [
    "runner = SeleniumRunner('suba_j.csv')"
   ]
  },
  {
   "cell_type": "code",
   "execution_count": null,
   "id": "6d7bfd25-b1fe-4e53-b6bf-b3e5f49a5556",
   "metadata": {},
   "outputs": [],
   "source": [
    "runner.run(True)"
   ]
  },
  {
   "cell_type": "code",
   "execution_count": null,
   "id": "cf09e260-d04d-48a2-899f-e80ebd89e840",
   "metadata": {},
   "outputs": [],
   "source": []
  }
 ],
 "metadata": {
  "kernelspec": {
   "display_name": "Python 3 (ipykernel)",
   "language": "python",
   "name": "python3"
  },
  "language_info": {
   "codemirror_mode": {
    "name": "ipython",
    "version": 3
   },
   "file_extension": ".py",
   "mimetype": "text/x-python",
   "name": "python",
   "nbconvert_exporter": "python",
   "pygments_lexer": "ipython3",
   "version": "3.12.9"
  }
 },
 "nbformat": 4,
 "nbformat_minor": 5
}
